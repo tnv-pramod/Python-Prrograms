{
  "nbformat": 4,
  "nbformat_minor": 0,
  "metadata": {
    "colab": {
      "provenance": [],
      "authorship_tag": "ABX9TyPwydb7cZNV2CPfm6GIlK8f",
      "include_colab_link": true
    },
    "kernelspec": {
      "name": "python3",
      "display_name": "Python 3"
    },
    "language_info": {
      "name": "python"
    }
  },
  "cells": [
    {
      "cell_type": "markdown",
      "metadata": {
        "id": "view-in-github",
        "colab_type": "text"
      },
      "source": [
        "<a href=\"https://colab.research.google.com/github/tnv-pramod/Python-Prrograms/blob/master/Functions.ipynb\" target=\"_parent\"><img src=\"https://colab.research.google.com/assets/colab-badge.svg\" alt=\"Open In Colab\"/></a>"
      ]
    },
    {
      "cell_type": "markdown",
      "source": [
        "#Docstring for functions"
      ],
      "metadata": {
        "id": "iWBvcGQADvBZ"
      }
    },
    {
      "cell_type": "code",
      "source": [
        "def evenodd(X):\n",
        "  \"\"\"function used to check whether it is odd or even\"\"\"\n",
        "  if X%2==0:\n",
        "    print(\"even\")\n",
        "  else:\n",
        "    print(\"odd\")\n",
        "print(evenodd.__doc__)\n",
        "evenodd(3)"
      ],
      "metadata": {
        "colab": {
          "base_uri": "https://localhost:8080/"
        },
        "id": "Nw2vnyH0DJD1",
        "outputId": "9a17fd33-6a12-4853-ed3c-9022ff76c14b"
      },
      "execution_count": 9,
      "outputs": [
        {
          "output_type": "stream",
          "name": "stdout",
          "text": [
            "function used to check whether it is odd or even\n",
            "odd\n"
          ]
        }
      ]
    },
    {
      "cell_type": "markdown",
      "source": [
        "#Functions"
      ],
      "metadata": {
        "id": "fbnEFlEnEDTJ"
      }
    },
    {
      "cell_type": "code",
      "source": [
        "def greet():\n",
        "  print(\"hello\")"
      ],
      "metadata": {
        "id": "jxUeT8gqD5qR"
      },
      "execution_count": 10,
      "outputs": []
    },
    {
      "cell_type": "code",
      "source": [
        "def greet():\n",
        "  print(\"hello\")\n",
        "greet()\n",
        "greet()"
      ],
      "metadata": {
        "colab": {
          "base_uri": "https://localhost:8080/"
        },
        "id": "ttlgl7nJECJb",
        "outputId": "55abc654-3f2f-4962-8505-3da6c06984a1"
      },
      "execution_count": 12,
      "outputs": [
        {
          "output_type": "stream",
          "name": "stdout",
          "text": [
            "hello\n",
            "hello\n"
          ]
        }
      ]
    },
    {
      "cell_type": "code",
      "source": [
        "def add(x,y):\n",
        "  c=x+y\n",
        "  return c\n",
        "add(5,4)"
      ],
      "metadata": {
        "colab": {
          "base_uri": "https://localhost:8080/"
        },
        "id": "Ubha-r1XEc3c",
        "outputId": "be483d6c-e33c-4fa3-a3e2-25a9ea8ac926"
      },
      "execution_count": 13,
      "outputs": [
        {
          "output_type": "execute_result",
          "data": {
            "text/plain": [
              "9"
            ]
          },
          "metadata": {},
          "execution_count": 13
        }
      ]
    },
    {
      "cell_type": "code",
      "source": [
        "def add(x,y):\n",
        "  c=x+y\n",
        "  print(c)\n",
        "add(5,4)"
      ],
      "metadata": {
        "colab": {
          "base_uri": "https://localhost:8080/"
        },
        "id": "khv7PU5-Et7H",
        "outputId": "adbc0f85-b182-4aa6-991f-e4d14941c518"
      },
      "execution_count": 19,
      "outputs": [
        {
          "output_type": "stream",
          "name": "stdout",
          "text": [
            "9\n"
          ]
        }
      ]
    },
    {
      "cell_type": "code",
      "source": [
        "def add_sub(x,y):\n",
        "  c=x+y\n",
        "  d=x-y\n",
        "  return c,d\n",
        "result1,result2=add_sub(4,6)\n",
        "print(result1,result2)"
      ],
      "metadata": {
        "colab": {
          "base_uri": "https://localhost:8080/"
        },
        "id": "jzHGlN0GFQv1",
        "outputId": "d5cde880-431e-4806-f0fc-88bd30a92430"
      },
      "execution_count": 26,
      "outputs": [
        {
          "output_type": "stream",
          "name": "stdout",
          "text": [
            "10 -2\n"
          ]
        }
      ]
    },
    {
      "cell_type": "code",
      "source": [
        "def add_sub(x,y):\n",
        "  c=x+y\n",
        "  d=x-y\n",
        "  print(c,d)\n",
        "add_sub(4,6)"
      ],
      "metadata": {
        "colab": {
          "base_uri": "https://localhost:8080/"
        },
        "id": "tF0r20mIFQk6",
        "outputId": "5594e03d-a55d-40ec-acf0-6137dbc363be"
      },
      "execution_count": 28,
      "outputs": [
        {
          "output_type": "stream",
          "name": "stdout",
          "text": [
            "10 -2\n"
          ]
        }
      ]
    },
    {
      "cell_type": "code",
      "source": [
        "def add_sub(x,y):\n",
        "  c=x+y\n",
        "  d=x-y\n",
        "  return c,d\n",
        "add_sub(4,6)"
      ],
      "metadata": {
        "colab": {
          "base_uri": "https://localhost:8080/"
        },
        "id": "EHUL77U4GWK5",
        "outputId": "a6f7b579-edb9-4435-d452-60146a991fb1"
      },
      "execution_count": 29,
      "outputs": [
        {
          "output_type": "execute_result",
          "data": {
            "text/plain": [
              "(10, -2)"
            ]
          },
          "metadata": {},
          "execution_count": 29
        }
      ]
    },
    {
      "cell_type": "code",
      "source": [
        "def myfun(y):\n",
        "    total = 0\n",
        "    for i in y:\n",
        "        total += i\n",
        "    return total\n",
        "y=[13,4,6,7,3]\n",
        "x = [20, 30, 40]     #the x(paased parameter) only works in this\n",
        "result = myfun(x)\n",
        "print(result)"
      ],
      "metadata": {
        "colab": {
          "base_uri": "https://localhost:8080/"
        },
        "id": "pjTu9tOTG3yM",
        "outputId": "d82d2729-7865-43a1-d337-547a946c8c9e"
      },
      "execution_count": 78,
      "outputs": [
        {
          "output_type": "stream",
          "name": "stdout",
          "text": [
            "90\n"
          ]
        }
      ]
    },
    {
      "cell_type": "code",
      "source": [
        "def k():\n",
        "  return 1\n",
        "  return 4\n",
        "  return 5\n",
        "for i in k():\n",
        " print(i)"
      ],
      "metadata": {
        "colab": {
          "base_uri": "https://localhost:8080/",
          "height": 217
        },
        "id": "lGNeeylwOzB-",
        "outputId": "05c4cca0-e528-4b2a-f2c1-cc1806ed1078"
      },
      "execution_count": 94,
      "outputs": [
        {
          "output_type": "error",
          "ename": "TypeError",
          "evalue": "ignored",
          "traceback": [
            "\u001b[0;31m---------------------------------------------------------------------------\u001b[0m",
            "\u001b[0;31mTypeError\u001b[0m                                 Traceback (most recent call last)",
            "\u001b[0;32m<ipython-input-94-fa431ba956eb>\u001b[0m in \u001b[0;36m<cell line: 5>\u001b[0;34m()\u001b[0m\n\u001b[1;32m      3\u001b[0m   \u001b[0;32mreturn\u001b[0m \u001b[0;36m4\u001b[0m\u001b[0;34m\u001b[0m\u001b[0;34m\u001b[0m\u001b[0m\n\u001b[1;32m      4\u001b[0m   \u001b[0;32mreturn\u001b[0m \u001b[0;36m5\u001b[0m\u001b[0;34m\u001b[0m\u001b[0;34m\u001b[0m\u001b[0m\n\u001b[0;32m----> 5\u001b[0;31m \u001b[0;32mfor\u001b[0m \u001b[0mi\u001b[0m \u001b[0;32min\u001b[0m \u001b[0mk\u001b[0m\u001b[0;34m(\u001b[0m\u001b[0;34m)\u001b[0m\u001b[0;34m:\u001b[0m\u001b[0;34m\u001b[0m\u001b[0;34m\u001b[0m\u001b[0m\n\u001b[0m\u001b[1;32m      6\u001b[0m  \u001b[0mprint\u001b[0m\u001b[0;34m(\u001b[0m\u001b[0mi\u001b[0m\u001b[0;34m)\u001b[0m\u001b[0;34m\u001b[0m\u001b[0;34m\u001b[0m\u001b[0m\n",
            "\u001b[0;31mTypeError\u001b[0m: 'int' object is not iterable"
          ]
        }
      ]
    },
    {
      "cell_type": "markdown",
      "source": [
        "#Generators(Yield Function):\n",
        "if the body of the def contains yield,the function automatically becomes a generator function\n",
        "\n",
        "1)we should use yield when we want to iterate over a sequence,but don't want to store the entire sequence\n",
        "\n",
        "2)generators takes less memory"
      ],
      "metadata": {
        "id": "QtYKTL5qPWJv"
      }
    },
    {
      "cell_type": "code",
      "source": [
        "def generator():\n",
        "  yield 1\n",
        "  yield 2\n",
        "  yield 3\n",
        "for value in generator():\n",
        " print(value)"
      ],
      "metadata": {
        "colab": {
          "base_uri": "https://localhost:8080/"
        },
        "id": "-J8i-Q_DQW_-",
        "outputId": "4e9f2520-953b-4b09-a91b-58eb3135170c"
      },
      "execution_count": 89,
      "outputs": [
        {
          "output_type": "stream",
          "name": "stdout",
          "text": [
            "1\n",
            "2\n",
            "3\n"
          ]
        }
      ]
    },
    {
      "cell_type": "markdown",
      "source": [
        "#Types of function arguments\n",
        "1)postion argument\n",
        "\n",
        "2)keyword argument\n",
        "\n",
        "3)default argument\n",
        "\n",
        "4)variable length argument\n",
        "\n",
        "5)keyword variable length argument"
      ],
      "metadata": {
        "id": "02SsjVXMVjBF"
      }
    },
    {
      "cell_type": "code",
      "source": [
        "#position argument\n",
        "def add(a,b):\n",
        "  c=a+b\n",
        "  print(c)\n",
        "add(5,6)"
      ],
      "metadata": {
        "colab": {
          "base_uri": "https://localhost:8080/"
        },
        "id": "7N5JUeyjVihj",
        "outputId": "218cc4c2-586c-4dd4-8c6f-6f0f0569ce87"
      },
      "execution_count": 98,
      "outputs": [
        {
          "output_type": "stream",
          "name": "stdout",
          "text": [
            "11\n"
          ]
        }
      ]
    },
    {
      "cell_type": "code",
      "source": [
        "#keyword argument\n",
        "def person(name,age):\n",
        "  print(name)\n",
        "  print(age)\n",
        "person(age=28,name='navin')"
      ],
      "metadata": {
        "colab": {
          "base_uri": "https://localhost:8080/"
        },
        "id": "05_nh3hyUc0h",
        "outputId": "6bbfb116-d40c-4df6-d727-8abbda2bd725"
      },
      "execution_count": 99,
      "outputs": [
        {
          "output_type": "stream",
          "name": "stdout",
          "text": [
            "navin\n",
            "28\n"
          ]
        }
      ]
    },
    {
      "cell_type": "code",
      "source": [
        "#default argument\n",
        "def person(name,age=18):\n",
        "  print(name)\n",
        "  print(age)\n",
        "person('navin')"
      ],
      "metadata": {
        "colab": {
          "base_uri": "https://localhost:8080/"
        },
        "id": "z7fOm5CrXqep",
        "outputId": "86cb6a8e-3bfc-4c5e-d126-16541e3a3f4a"
      },
      "execution_count": 100,
      "outputs": [
        {
          "output_type": "stream",
          "name": "stdout",
          "text": [
            "navin\n",
            "18\n"
          ]
        }
      ]
    },
    {
      "cell_type": "code",
      "source": [
        "#variable length argument\n",
        "def sum(a,*b):\n",
        "  print(a)\n",
        "  print(b)        #total elements except a\n",
        "sum(5,3,6,8,56,9)"
      ],
      "metadata": {
        "colab": {
          "base_uri": "https://localhost:8080/"
        },
        "id": "9rVMdknLX7Ks",
        "outputId": "81264e4d-a15f-42ee-f483-7636c2d8c0b3"
      },
      "execution_count": 102,
      "outputs": [
        {
          "output_type": "stream",
          "name": "stdout",
          "text": [
            "5\n",
            "(3, 6, 8, 56, 9)\n"
          ]
        }
      ]
    },
    {
      "cell_type": "code",
      "source": [
        "#keyword variable length argument\n",
        "def person(name,**data):\n",
        "  print(name)\n",
        "  print(data)\n",
        "person('navin',age=28,city='mumbai')"
      ],
      "metadata": {
        "colab": {
          "base_uri": "https://localhost:8080/"
        },
        "id": "2JYBR5pdYsKM",
        "outputId": "227bcf61-3311-4cf9-83a8-daf0148d3b14"
      },
      "execution_count": 104,
      "outputs": [
        {
          "output_type": "stream",
          "name": "stdout",
          "text": [
            "navin\n",
            "{'age': 28, 'city': 'mumbai'}\n"
          ]
        }
      ]
    },
    {
      "cell_type": "code",
      "source": [
        "a=10\n",
        "def something():\n",
        "  a=15\n",
        "  print(\"infun\",a)\n",
        "something()\n",
        "print(\"outside\",a)"
      ],
      "metadata": {
        "colab": {
          "base_uri": "https://localhost:8080/"
        },
        "id": "yBkCAhTuZoF3",
        "outputId": "1a059372-d8bb-4124-d8c8-2c9f3dd45447"
      },
      "execution_count": 106,
      "outputs": [
        {
          "output_type": "stream",
          "name": "stdout",
          "text": [
            "infun 15\n",
            "outside 10\n"
          ]
        }
      ]
    },
    {
      "cell_type": "code",
      "source": [
        "#without declaring a local variable the,global variable can access local variable\n",
        "a=10                          \n",
        "def something():\n",
        "  print(\"infun\",a)\n",
        "something()\n",
        "print(\"outside\",a)"
      ],
      "metadata": {
        "colab": {
          "base_uri": "https://localhost:8080/"
        },
        "id": "_YUTh37aas8r",
        "outputId": "e9593ab6-603f-4371-cb04-97d643f93cb4"
      },
      "execution_count": 107,
      "outputs": [
        {
          "output_type": "stream",
          "name": "stdout",
          "text": [
            "infun 10\n",
            "outside 10\n"
          ]
        }
      ]
    },
    {
      "cell_type": "markdown",
      "source": [
        "#Anonymous function(or)lambda function\n",
        "1)a function without name is called anonymous(or)lambda function\n",
        "\n",
        "2)we can pass any number of arguments but only of one expression"
      ],
      "metadata": {
        "id": "Dg-IgcPUbe2j"
      }
    },
    {
      "cell_type": "code",
      "source": [
        "f=lambda a:a*a\n",
        "result=f(5)\n",
        "print(result)"
      ],
      "metadata": {
        "colab": {
          "base_uri": "https://localhost:8080/"
        },
        "id": "_lDmOddebebc",
        "outputId": "6c99e4b7-a266-4ee2-ffe6-9aeb6bd6e2cd"
      },
      "execution_count": 108,
      "outputs": [
        {
          "output_type": "stream",
          "name": "stdout",
          "text": [
            "25\n"
          ]
        }
      ]
    },
    {
      "cell_type": "code",
      "source": [
        "x=lambda a,b:a+b\n",
        "result=x(5,23)\n",
        "print(result)"
      ],
      "metadata": {
        "colab": {
          "base_uri": "https://localhost:8080/"
        },
        "id": "0_2mvnefcOaf",
        "outputId": "3b38a894-5b99-4778-cc0d-c7e283d423e3"
      },
      "execution_count": 115,
      "outputs": [
        {
          "output_type": "stream",
          "name": "stdout",
          "text": [
            "28\n"
          ]
        }
      ]
    },
    {
      "cell_type": "markdown",
      "source": [
        "#Filter function\n",
        "1)it takes list from us and filter that list values\n",
        "\n",
        "2)filter takes two arguments a)function b)iterable\n",
        "\n",
        "where iterable is a sequence of a list\n",
        "\n",
        "3)filter take sequence and returns sequence"
      ],
      "metadata": {
        "id": "lLpRyaUwdBg7"
      }
    },
    {
      "cell_type": "markdown",
      "source": [
        "#Map function\n",
        "1)when we want to change every value from the sequence(or) by using by using map function\n",
        "\n",
        "2)in this we use two arguments a)function b)iterative"
      ],
      "metadata": {
        "id": "E8RmWKdShIg5"
      }
    },
    {
      "cell_type": "code",
      "source": [
        "#Reduce function \n",
        "1)reduce is a function changes from list to a single cummaltive value\n",
        "\n",
        "2)in this we use two arguments a)function b)iteration"
      ],
      "metadata": {
        "id": "K3DgabHljOzo"
      },
      "execution_count": null,
      "outputs": []
    }
  ]
}