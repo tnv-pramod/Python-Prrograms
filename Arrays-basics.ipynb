{
  "nbformat": 4,
  "nbformat_minor": 0,
  "metadata": {
    "colab": {
      "provenance": [],
      "authorship_tag": "ABX9TyMaYR08eCS/NltlPFp0PxUw",
      "include_colab_link": true
    },
    "kernelspec": {
      "name": "python3",
      "display_name": "Python 3"
    },
    "language_info": {
      "name": "python"
    }
  },
  "cells": [
    {
      "cell_type": "markdown",
      "metadata": {
        "id": "view-in-github",
        "colab_type": "text"
      },
      "source": [
        "<a href=\"https://colab.research.google.com/github/tnv-pramod/Python-Prrograms/blob/master/Arrays-basics.ipynb\" target=\"_parent\"><img src=\"https://colab.research.google.com/assets/colab-badge.svg\" alt=\"Open In Colab\"/></a>"
      ]
    },
    {
      "cell_type": "code",
      "source": [
        "class likelist:\n",
        "    def __init__(self):\n",
        "        self.size = 1\n",
        "        self.n = 0\n",
        "        self.A = self.make_array(self.size)\n",
        "\n",
        "    def make_array(self, capacity):\n",
        "        return [None] * capacity\n",
        "\n",
        "    def len(self):\n",
        "        return self.n\n",
        "    def append(self, item):\n",
        "        if self.n == self.size:\n",
        "            self.resize(self.size * 2)\n",
        "\n",
        "        self.A[self.n] = item\n",
        "        self.n += 1\n",
        "\n",
        "    def resize(self, new_capacity):\n",
        "        B = self.make_array(new_capacity)\n",
        "        self.size = new_capacity\n",
        "\n",
        "        for i in range(self.n):\n",
        "            B[i] = self.A[i]\n",
        "\n",
        "        self.A = B\n",
        "    def __getitem__(self,index):\n",
        "        if 0<=index<self.n:\n",
        "            return self.A[index]\n",
        "        else:\n",
        "            return 'index out of range'\n",
        "    def pop(self):\n",
        "      if self.n==0:\n",
        "        return \"empty list\"\n",
        "      else:\n",
        "        print(self.A[self.n-1])\n",
        "        self.n=self.n-1\n",
        "    def __str__(self):\n",
        "      result=''\n",
        "      for i in range(self.n):\n",
        "        result=result+str(self.A[i])+','\n",
        "      return '[' + result[:-1] + ']'\n",
        "    def clear(self):\n",
        "      self.n=0\n",
        "      self.size=1\n",
        "      #self.A=self.make_array(self.size)\n",
        "    def find(self,item):\n",
        "      for i in range(self.n):\n",
        "        if self.A[i]==item:\n",
        "         return i\n",
        "      return \"value error:not in list\"\n",
        "    def insert(self,pos,item):\n",
        "      if self.n==self.size:\n",
        "        self.resize(self.size*2)\n",
        "      for i in range(self.n,pos,-1):\n",
        "        self.A[i]=self.A[i-1]\n",
        "      self.A[pos]=item\n",
        "      self.n=self.n+1\n",
        "    def __delitem__(self,pos):\n",
        "      for i in range(pos,self.n-1):\n",
        "        self.A[i]=self.A[i+1]\n",
        "      self.n=self.n-1\n",
        "    def remove(self,item):\n",
        "      pos=self.find(item)\n",
        "      if type(pos)==int:\n",
        "        self.__delitem__(pos)\n",
        "      else:\n",
        "        return pos\n",
        "\n",
        "l = likelist()\n",
        "l.append(\"hello\")\n",
        "l.append(2)\n",
        "l.append(True)\n",
        "l.append(1020)\n",
        "print(l.A)\n",
        "\n"
      ],
      "metadata": {
        "colab": {
          "base_uri": "https://localhost:8080/"
        },
        "id": "MP8LhBx7z2tQ",
        "outputId": "3dc46f23-782e-42ec-ddd6-d105bc7267ff"
      },
      "execution_count": null,
      "outputs": [
        {
          "output_type": "stream",
          "name": "stdout",
          "text": [
            "['hello', 2, True, 1020]\n"
          ]
        }
      ]
    },
    {
      "cell_type": "code",
      "source": [
        "print(l)"
      ],
      "metadata": {
        "colab": {
          "base_uri": "https://localhost:8080/"
        },
        "id": "axZwFkJ1v3yj",
        "outputId": "da7a4822-f004-4ddc-bdd7-eb873d8309c7"
      },
      "execution_count": null,
      "outputs": [
        {
          "output_type": "stream",
          "name": "stdout",
          "text": [
            "[2,True,1020]\n"
          ]
        }
      ]
    },
    {
      "cell_type": "code",
      "source": [
        "l.len()"
      ],
      "metadata": {
        "colab": {
          "base_uri": "https://localhost:8080/"
        },
        "id": "lte7kISNviWM",
        "outputId": "b3230e99-70a4-4b52-d91c-43a49469b55b"
      },
      "execution_count": null,
      "outputs": [
        {
          "output_type": "execute_result",
          "data": {
            "text/plain": [
              "4"
            ]
          },
          "metadata": {},
          "execution_count": 15
        }
      ]
    },
    {
      "cell_type": "code",
      "source": [
        "l[3]"
      ],
      "metadata": {
        "colab": {
          "base_uri": "https://localhost:8080/"
        },
        "id": "u64zvGYAvX2V",
        "outputId": "eeec340b-cd41-4f4e-afa9-531f12fbed45"
      },
      "execution_count": null,
      "outputs": [
        {
          "output_type": "execute_result",
          "data": {
            "text/plain": [
              "1020"
            ]
          },
          "metadata": {},
          "execution_count": 16
        }
      ]
    },
    {
      "cell_type": "code",
      "source": [
        "l.pop()"
      ],
      "metadata": {
        "colab": {
          "base_uri": "https://localhost:8080/"
        },
        "id": "EdAuMGqv37Tx",
        "outputId": "33b28c94-e5e2-4068-d8c0-6fcaf3892538"
      },
      "execution_count": null,
      "outputs": [
        {
          "output_type": "stream",
          "name": "stdout",
          "text": [
            "1020\n"
          ]
        }
      ]
    },
    {
      "cell_type": "code",
      "source": [
        "l.clear()\n",
        "print(l)"
      ],
      "metadata": {
        "colab": {
          "base_uri": "https://localhost:8080/"
        },
        "id": "5_fzVREYu5x6",
        "outputId": "11092e84-47ea-42a7-f224-59fca766dbaf"
      },
      "execution_count": null,
      "outputs": [
        {
          "output_type": "stream",
          "name": "stdout",
          "text": [
            "[]\n"
          ]
        }
      ]
    },
    {
      "cell_type": "code",
      "source": [
        "l.find(\"hello\")"
      ],
      "metadata": {
        "colab": {
          "base_uri": "https://localhost:8080/"
        },
        "id": "RI8L-gAezZPj",
        "outputId": "cbe5ec9c-47b1-4a9c-e1d4-e8259ea708f7"
      },
      "execution_count": null,
      "outputs": [
        {
          "output_type": "execute_result",
          "data": {
            "text/plain": [
              "0"
            ]
          },
          "metadata": {},
          "execution_count": 38
        }
      ]
    },
    {
      "cell_type": "code",
      "source": [
        "l.insert(2,\"good\")"
      ],
      "metadata": {
        "id": "WKfUtmUPgtqB"
      },
      "execution_count": null,
      "outputs": []
    },
    {
      "cell_type": "code",
      "source": [
        "del l[1]"
      ],
      "metadata": {
        "id": "7gSYDFxyhVMH"
      },
      "execution_count": null,
      "outputs": []
    },
    {
      "cell_type": "code",
      "source": [
        "l.remove(\"hello\")"
      ],
      "metadata": {
        "id": "WpQPSSiihvcG"
      },
      "execution_count": null,
      "outputs": []
    }
  ]
}