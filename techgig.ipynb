{
  "nbformat": 4,
  "nbformat_minor": 0,
  "metadata": {
    "colab": {
      "provenance": [],
      "authorship_tag": "ABX9TyNcMiGaIQIVLPwf3hmJC+yC",
      "include_colab_link": true
    },
    "kernelspec": {
      "name": "python3",
      "display_name": "Python 3"
    },
    "language_info": {
      "name": "python"
    }
  },
  "cells": [
    {
      "cell_type": "markdown",
      "metadata": {
        "id": "view-in-github",
        "colab_type": "text"
      },
      "source": [
        "<a href=\"https://colab.research.google.com/github/tnv-pramod/Python-Prrograms/blob/master/techgig.ipynb\" target=\"_parent\"><img src=\"https://colab.research.google.com/assets/colab-badge.svg\" alt=\"Open In Colab\"/></a>"
      ]
    },
    {
      "cell_type": "code",
      "execution_count": 24,
      "metadata": {
        "colab": {
          "base_uri": "https://localhost:8080/"
        },
        "id": "Qxvp25ZgM8s8",
        "outputId": "a7042361-a6e0-4aa2-b031-cec7e00b9c74"
      },
      "outputs": [
        {
          "output_type": "stream",
          "name": "stdout",
          "text": [
            "5 4\n",
            "1 3 2 4 5\n",
            "2\n"
          ]
        }
      ],
      "source": [
        "def saving_animals(N,energy,X):\n",
        "  sorted(energy)\n",
        "  if N>X:\n",
        "    y=N-X\n",
        "    for i in range(y):\n",
        "      del energy[0]\n",
        "      print(min(energy))\n",
        "  else:\n",
        "    print(min(energy))\n",
        "N, X = map(int, input().split())\n",
        "energy = list(map(int, input().split()))\n",
        "saving_animals(N,energy,X)\n"
      ]
    },
    {
      "cell_type": "code",
      "source": [
        "def minimum_energy_level(N, X, energy_levels):\n",
        "    energy_levels.sort()  # Sort the energy levels in non-decreasing order\n",
        "\n",
        "    # Initialize the low and high pointers for binary search\n",
        "    low = 1\n",
        "    high = energy_levels[N-1]\n",
        "\n",
        "    result = -1  # Initialize the result to -1\n",
        "\n",
        "    while low <= high:\n",
        "        mid = (low + high) // 2\n",
        "\n",
        "        # Check if the current mid energy level allows us to save exactly X animals\n",
        "        if check_feasibility(mid, N, X, energy_levels):\n",
        "            result = mid\n",
        "            high = mid - 1\n",
        "        else:\n",
        "            low = mid + 1\n",
        "\n",
        "    return result\n",
        "\n",
        "def check_feasibility(P, N, X, energy_levels):\n",
        "    count = 0  # Count the number of animals with energy level greater than or equal to P\n",
        "    for i in range(N):\n",
        "        if energy_levels[i] >= P:\n",
        "            count += 1\n",
        "\n",
        "            # If we have found enough animals, return True\n",
        "            if count == X:\n",
        "                return True\n",
        "\n",
        "    # If we have not found enough animals, return False\n",
        "    return False\n",
        "\n",
        "# Read the input\n",
        "N, X = map(int, input().split())\n",
        "energy_levels = list(map(int, input().split()))\n",
        "\n",
        "# Call the function to find the minimum energy level\n",
        "min_energy_level = minimum_energy_level(N, X, energy_levels)\n",
        "\n",
        "# Print the result\n",
        "print(min_energy_level)\n"
      ],
      "metadata": {
        "colab": {
          "base_uri": "https://localhost:8080/"
        },
        "id": "plyqzZumR6Yx",
        "outputId": "ba3c583a-1d8b-421a-d5d7-d98a24f010db"
      },
      "execution_count": 23,
      "outputs": [
        {
          "output_type": "stream",
          "name": "stdout",
          "text": [
            "5 4\n",
            "1 3 2 4 5\n",
            "-1\n"
          ]
        }
      ]
    }
  ]
}